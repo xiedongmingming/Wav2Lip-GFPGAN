{
 "nbformat": 4,
 "nbformat_minor": 0,
 "metadata": {
  "colab": {
   "name": "Wav2Lip.ipynb",
   "provenance": [],
   "collapsed_sections": []
  },
  "kernelspec": {
   "name": "python3",
   "language": "python",
   "display_name": "Python 3 (ipykernel)"
  },
  "language_info": {
   "name": "python"
  },
  "accelerator": "GPU",
  "gpuClass": "standard"
 },
 "cells": [
  {
   "cell_type": "code",
   "source": [
    "basePath = \"F:\\\\workspace\\\\github\\\\xiedongmingming\\\\Wav2Lip-GFPGAN\"\n",
    "\n",
    "%cd {basePath}"
   ],
   "metadata": {
    "id": "YhFe3CJGAIiV",
    "ExecuteTime": {
     "end_time": "2023-07-05T07:44:20.855113500Z",
     "start_time": "2023-07-05T07:44:20.837161600Z"
    }
   },
   "execution_count": 20,
   "outputs": [
    {
     "name": "stdout",
     "output_type": "stream",
     "text": [
      "F:\\workspace\\github\\xiedongmingming\\Wav2Lip-GFPGAN\n"
     ]
    }
   ]
  },
  {
   "cell_type": "code",
   "source": [
    "wav2lipFolderName = 'Wav2Lip-master'\n",
    "gfpganFolderName = 'GFPGAN-master'\n",
    "\n",
    "wav2lipPath = basePath + '/' + wav2lipFolderName\n",
    "gfpganPath = basePath + '/' + gfpganFolderName\n",
    "\n",
    "# !wget 'https://www.adrianbulat.com/downloads/python-fan/s3fd-619a316812.pth' -O {wav2lipPath}'/face_detection/detection/sfd/s3fd.pth'\n",
    "# !gdown https://drive.google.com/uc?id=1fQtBSYEyuai9MjBOF8j7zZ4oQ9W2N64q --output {wav2lipPath}'/checkpoints/'"
   ],
   "metadata": {
    "id": "mH7A_OaFUs8U",
    "ExecuteTime": {
     "end_time": "2023-07-05T07:44:23.120995300Z",
     "start_time": "2023-07-05T07:44:23.102047400Z"
    }
   },
   "execution_count": 21,
   "outputs": []
  },
  {
   "cell_type": "code",
   "source": [
    "# !pip install -r requirements.txt"
   ],
   "metadata": {
    "id": "CAJqWQS17Qk1"
   },
   "execution_count": null,
   "outputs": []
  },
  {
   "cell_type": "code",
   "execution_count": 23,
   "metadata": {
    "id": "EqX_2YtkUjRI",
    "ExecuteTime": {
     "end_time": "2023-07-05T07:46:31.489424500Z",
     "start_time": "2023-07-05T07:44:52.595766500Z"
    }
   },
   "outputs": [
    {
     "name": "stdout",
     "output_type": "stream",
     "text": [
      "F:\\workspace\\github\\xiedongmingming\\Wav2Lip-GFPGAN/inputs/test.mp4\n",
      "Using cuda for inference.\n",
      "Reading video frames...\n",
      "Number of frames available for inference: 655\n",
      "Extracting raw audio...\n",
      "(80, 593)\n",
      "Length of mel chunks: 182\n",
      "Recovering from OOM error; New batch size: 8\n",
      "Recovering from OOM error; New batch size: 4\n",
      "Load checkpoint from: checkpoints/wav2lip.pth\n",
      "Model loaded\n"
     ]
    },
    {
     "name": "stderr",
     "output_type": "stream",
     "text": [
      "ffmpeg version 4.4.1-essentials_build-www.gyan.dev Copyright (c) 2000-2021 the FFmpeg developers\n",
      "  built with gcc 11.2.0 (Rev1, Built by MSYS2 project)\n",
      "  configuration: --enable-gpl --enable-version3 --enable-static --disable-w32threads --disable-autodetect --enable-fontconfig --enable-iconv --enable-gnutls --enable-libxml2 --enable-gmp --enable-lzma --enable-zlib --enable-libsrt --enable-libssh --enable-libzmq --enable-avisynth --enable-sdl2 --enable-libwebp --enable-libx264 --enable-libx265 --enable-libxvid --enable-libaom --enable-libopenjpeg --enable-libvpx --enable-libass --enable-libfreetype --enable-libfribidi --enable-libvidstab --enable-libvmaf --enable-libzimg --enable-amf --enable-cuda-llvm --enable-cuvid --enable-ffnvcodec --enable-nvdec --enable-nvenc --enable-d3d11va --enable-dxva2 --enable-libmfx --enable-libgme --enable-libopenmpt --enable-libopencore-amrwb --enable-libmp3lame --enable-libtheora --enable-libvo-amrwbenc --enable-libgsm --enable-libopencore-amrnb --enable-libopus --enable-libspeex --enable-libvorbis --enable-librubberband\n",
      "  libavutil      56. 70.100 / 56. 70.100\n",
      "  libavcodec     58.134.100 / 58.134.100\n",
      "  libavformat    58. 76.100 / 58. 76.100\n",
      "  libavdevice    58. 13.100 / 58. 13.100\n",
      "  libavfilter     7.110.100 /  7.110.100\n",
      "  libswscale      5.  9.100 /  5.  9.100\n",
      "  libswresample   3.  9.100 /  3.  9.100\n",
      "  libpostproc    55.  9.100 / 55.  9.100\n",
      "Input #0, mp3, from 'F:\\workspace\\github\\xiedongmingming\\Wav2Lip-GFPGAN/inputs/kim_audio.mp3':\n",
      "  Metadata:\n",
      "    comment         : audio-extractor.net\n",
      "  Duration: 00:00:07.44, start: 0.025057, bitrate: 132 kb/s\n",
      "  Stream #0:0: Audio: mp3, 44100 Hz, stereo, fltp, 128 kb/s\n",
      "    Metadata:\n",
      "      encoder         : Lavc59.18\n",
      "Stream mapping:\n",
      "  Stream #0:0 -> #0:0 (mp3 (mp3float) -> pcm_s16le (native))\n",
      "Press [q] to stop, [?] for help\n",
      "Output #0, wav, to 'temp/temp.wav':\n",
      "  Metadata:\n",
      "    ICMT            : audio-extractor.net\n",
      "    ISFT            : Lavf58.76.100\n",
      "  Stream #0:0: Audio: pcm_s16le ([1][0][0][0] / 0x0001), 44100 Hz, stereo, s16, 1411 kb/s\n",
      "    Metadata:\n",
      "      encoder         : Lavc58.134.100 pcm_s16le\n",
      "size=       0kB time=00:00:00.00 bitrate=N/A speed=N/A    \n",
      "size=    1276kB time=00:00:07.39 bitrate=1413.9kbits/s speed= 101x    \n",
      "video:0kB audio:1276kB subtitle:0kB other streams:0kB global headers:0kB muxing overhead: 0.008113%\n",
      "\n",
      "  0%|          | 0/2 [00:00<?, ?it/s]\n",
      "\n",
      "  0%|          | 0/12 [00:00<?, ?it/s]\u001B[A\n",
      "  0%|          | 0/12 [00:06<?, ?it/s]\n",
      "\n",
      "\n",
      "  0%|          | 0/23 [00:00<?, ?it/s]\u001B[A\n",
      "  0%|          | 0/23 [00:38<?, ?it/s]\n",
      "\n",
      "\n",
      "  0%|          | 0/46 [00:00<?, ?it/s]\u001B[A\n",
      "\n",
      "  2%|▏         | 1/46 [00:04<03:30,  4.69s/it]\u001B[A\n",
      "\n",
      "  4%|▍         | 2/46 [00:05<01:38,  2.23s/it]\u001B[A\n",
      "\n",
      "  7%|▋         | 3/46 [00:05<01:02,  1.46s/it]\u001B[A\n",
      "\n",
      "  9%|▊         | 4/46 [00:06<00:45,  1.09s/it]\u001B[A\n",
      "\n",
      " 11%|█         | 5/46 [00:06<00:36,  1.12it/s]\u001B[A\n",
      "\n",
      " 13%|█▎        | 6/46 [00:07<00:30,  1.30it/s]\u001B[A\n",
      "\n",
      " 15%|█▌        | 7/46 [00:07<00:26,  1.44it/s]\u001B[A\n",
      "\n",
      " 17%|█▋        | 8/46 [00:08<00:24,  1.57it/s]\u001B[A\n",
      "\n",
      " 20%|█▉        | 9/46 [00:08<00:22,  1.65it/s]\u001B[A\n",
      "\n",
      " 22%|██▏       | 10/46 [00:09<00:21,  1.71it/s]\u001B[A\n",
      "\n",
      " 24%|██▍       | 11/46 [00:10<00:19,  1.76it/s]\u001B[A\n",
      "\n",
      " 26%|██▌       | 12/46 [00:10<00:18,  1.80it/s]\u001B[A\n",
      "\n",
      " 28%|██▊       | 13/46 [00:11<00:18,  1.83it/s]\u001B[A\n",
      "\n",
      " 30%|███       | 14/46 [00:11<00:17,  1.83it/s]\u001B[A\n",
      "\n",
      " 33%|███▎      | 15/46 [00:12<00:16,  1.83it/s]\u001B[A\n",
      "\n",
      " 35%|███▍      | 16/46 [00:12<00:16,  1.83it/s]\u001B[A\n",
      "\n",
      " 37%|███▋      | 17/46 [00:13<00:15,  1.83it/s]\u001B[A\n",
      "\n",
      " 39%|███▉      | 18/46 [00:13<00:15,  1.85it/s]\u001B[A\n",
      "\n",
      " 41%|████▏     | 19/46 [00:14<00:14,  1.85it/s]\u001B[A\n",
      "\n",
      " 43%|████▎     | 20/46 [00:14<00:13,  1.86it/s]\u001B[A\n",
      "\n",
      " 46%|████▌     | 21/46 [00:15<00:13,  1.85it/s]\u001B[A\n",
      "\n",
      " 48%|████▊     | 22/46 [00:15<00:12,  1.87it/s]\u001B[A\n",
      "\n",
      " 50%|█████     | 23/46 [00:16<00:12,  1.88it/s]\u001B[A\n",
      "\n",
      " 52%|█████▏    | 24/46 [00:16<00:11,  1.88it/s]\u001B[A\n",
      "\n",
      " 54%|█████▍    | 25/46 [00:17<00:11,  1.87it/s]\u001B[A\n",
      "\n",
      " 57%|█████▋    | 26/46 [00:18<00:10,  1.89it/s]\u001B[A\n",
      "\n",
      " 59%|█████▊    | 27/46 [00:18<00:10,  1.89it/s]\u001B[A\n",
      "\n",
      " 61%|██████    | 28/46 [00:19<00:09,  1.89it/s]\u001B[A\n",
      "\n",
      " 63%|██████▎   | 29/46 [00:19<00:09,  1.87it/s]\u001B[A\n",
      "\n",
      " 65%|██████▌   | 30/46 [00:20<00:08,  1.87it/s]\u001B[A\n",
      "\n",
      " 67%|██████▋   | 31/46 [00:20<00:08,  1.86it/s]\u001B[A\n",
      "\n",
      " 70%|██████▉   | 32/46 [00:21<00:07,  1.87it/s]\u001B[A\n",
      "\n",
      " 72%|███████▏  | 33/46 [00:21<00:06,  1.86it/s]\u001B[A\n",
      "\n",
      " 74%|███████▍  | 34/46 [00:22<00:06,  1.88it/s]\u001B[A\n",
      "\n",
      " 76%|███████▌  | 35/46 [00:22<00:05,  1.87it/s]\u001B[A\n",
      "\n",
      " 78%|███████▊  | 36/46 [00:23<00:05,  1.87it/s]\u001B[A\n",
      "\n",
      " 80%|████████  | 37/46 [00:23<00:04,  1.88it/s]\u001B[A\n",
      "\n",
      " 83%|████████▎ | 38/46 [00:24<00:04,  1.87it/s]\u001B[A\n",
      "\n",
      " 85%|████████▍ | 39/46 [00:24<00:03,  1.88it/s]\u001B[A\n",
      "\n",
      " 87%|████████▋ | 40/46 [00:25<00:03,  1.87it/s]\u001B[A\n",
      "\n",
      " 89%|████████▉ | 41/46 [00:26<00:02,  1.87it/s]\u001B[A\n",
      "\n",
      " 91%|█████████▏| 42/46 [00:26<00:02,  1.87it/s]\u001B[A\n",
      "\n",
      " 93%|█████████▎| 43/46 [00:27<00:01,  1.86it/s]\u001B[A\n",
      "\n",
      " 96%|█████████▌| 44/46 [00:27<00:01,  1.86it/s]\u001B[A\n",
      "\n",
      " 98%|█████████▊| 45/46 [00:28<00:00,  1.85it/s]\u001B[A\n",
      "\n",
      "100%|██████████| 46/46 [00:30<00:00,  1.02s/it]\u001B[A\n",
      "100%|██████████| 46/46 [00:30<00:00,  1.52it/s]\n",
      "\n",
      " 50%|█████     | 1/2 [01:20<01:20, 80.36s/it]\n",
      "100%|██████████| 2/2 [01:21<00:00, 33.98s/it]\n",
      "100%|██████████| 2/2 [01:21<00:00, 40.94s/it]\n",
      "ffmpeg version 4.4.1-essentials_build-www.gyan.dev Copyright (c) 2000-2021 the FFmpeg developers\n",
      "  built with gcc 11.2.0 (Rev1, Built by MSYS2 project)\n",
      "  configuration: --enable-gpl --enable-version3 --enable-static --disable-w32threads --disable-autodetect --enable-fontconfig --enable-iconv --enable-gnutls --enable-libxml2 --enable-gmp --enable-lzma --enable-zlib --enable-libsrt --enable-libssh --enable-libzmq --enable-avisynth --enable-sdl2 --enable-libwebp --enable-libx264 --enable-libx265 --enable-libxvid --enable-libaom --enable-libopenjpeg --enable-libvpx --enable-libass --enable-libfreetype --enable-libfribidi --enable-libvidstab --enable-libvmaf --enable-libzimg --enable-amf --enable-cuda-llvm --enable-cuvid --enable-ffnvcodec --enable-nvdec --enable-nvenc --enable-d3d11va --enable-dxva2 --enable-libmfx --enable-libgme --enable-libopenmpt --enable-libopencore-amrwb --enable-libmp3lame --enable-libtheora --enable-libvo-amrwbenc --enable-libgsm --enable-libopencore-amrnb --enable-libopus --enable-libspeex --enable-libvorbis --enable-librubberband\n",
      "  libavutil      56. 70.100 / 56. 70.100\n",
      "  libavcodec     58.134.100 / 58.134.100\n",
      "  libavformat    58. 76.100 / 58. 76.100\n",
      "  libavdevice    58. 13.100 / 58. 13.100\n",
      "  libavfilter     7.110.100 /  7.110.100\n",
      "  libswscale      5.  9.100 /  5.  9.100\n",
      "  libswresample   3.  9.100 /  3.  9.100\n",
      "  libpostproc    55.  9.100 / 55.  9.100\n",
      "Guessed Channel Layout for Input Stream #0.0 : stereo\n",
      "Input #0, wav, from 'temp/temp.wav':\n",
      "  Metadata:\n",
      "    comment         : audio-extractor.net\n",
      "    encoder         : Lavf58.76.100\n",
      "  Duration: 00:00:07.41, bitrate: 1411 kb/s\n",
      "  Stream #0:0: Audio: pcm_s16le ([1][0][0][0] / 0x0001), 44100 Hz, stereo, s16, 1411 kb/s\n",
      "Input #1, avi, from 'temp/result.avi':\n",
      "  Metadata:\n",
      "    software        : Lavf58.76.100\n",
      "  Duration: 00:00:07.28, start: 0.000000, bitrate: 2996 kb/s\n",
      "  Stream #1:0: Video: mpeg4 (Simple Profile) (FMP4 / 0x34504D46), yuv420p, 1080x1920 [SAR 1:1 DAR 9:16], 2997 kb/s, 25 fps, 25 tbr, 25 tbn, 25 tbc\n",
      "Stream mapping:\n",
      "  Stream #1:0 -> #0:0 (mpeg4 (native) -> h264 (libx264))\n",
      "  Stream #0:0 -> #0:1 (pcm_s16le (native) -> aac (native))\n",
      "Press [q] to stop, [?] for help\n",
      "[libx264 @ 000001e3b7b3b800] -qscale is ignored, -crf is recommended.\n",
      "[libx264 @ 000001e3b7b3b800] using SAR=1/1\n",
      "[libx264 @ 000001e3b7b3b800] using cpu capabilities: MMX2 SSE2Fast SSSE3 SSE4.2 AVX FMA3 BMI2 AVX2\n",
      "[libx264 @ 000001e3b7b3b800] profile High, level 4.0, 4:2:0, 8-bit\n",
      "[libx264 @ 000001e3b7b3b800] 264 - core 164 r3075 66a5bc1 - H.264/MPEG-4 AVC codec - Copyleft 2003-2021 - http://www.videolan.org/x264.html - options: cabac=1 ref=3 deblock=1:0:0 analyse=0x3:0x113 me=hex subme=7 psy=1 psy_rd=1.00:0.00 mixed_ref=1 me_range=16 chroma_me=1 trellis=1 8x8dct=1 cqm=0 deadzone=21,11 fast_pskip=1 chroma_qp_offset=-2 threads=18 lookahead_threads=3 sliced_threads=0 nr=0 decimate=1 interlaced=0 bluray_compat=0 constrained_intra=0 bframes=3 b_pyramid=2 b_adapt=1 b_bias=0 direct=1 weightb=1 open_gop=0 weightp=2 keyint=250 keyint_min=25 scenecut=40 intra_refresh=0 rc_lookahead=40 rc=crf mbtree=1 crf=23.0 qcomp=0.60 qpmin=0 qpmax=69 qpstep=4 ip_ratio=1.40 aq=1:1.00\n",
      "Output #0, mp4, to 'F:\\workspace\\github\\xiedongmingming\\Wav2Lip-GFPGAN/outputs/result.mp4':\n",
      "  Metadata:\n",
      "    comment         : audio-extractor.net\n",
      "    encoder         : Lavf58.76.100\n",
      "  Stream #0:0: Video: h264 (avc1 / 0x31637661), yuv420p(progressive), 1080x1920 [SAR 1:1 DAR 9:16], q=2-31, 25 fps, 12800 tbn\n",
      "    Metadata:\n",
      "      encoder         : Lavc58.134.100 libx264\n",
      "    Side data:\n",
      "      cpb: bitrate max/min/avg: 0/0/0 buffer size: 0 vbv_delay: N/A\n",
      "  Stream #0:1: Audio: aac (LC) (mp4a / 0x6134706D), 44100 Hz, stereo, fltp, 128 kb/s\n",
      "    Metadata:\n",
      "      encoder         : Lavc58.134.100 aac\n",
      "frame=    1 fps=0.0 q=0.0 size=       0kB time=00:00:00.00 bitrate=N/A speed=   0x    \n",
      "frame=   76 fps=0.0 q=28.0 size=       0kB time=00:00:00.44 bitrate=   0.9kbits/s speed=0.658x    \n",
      "frame=  133 fps=110 q=28.0 size=     512kB time=00:00:02.72 bitrate=1542.1kbits/s speed=2.26x    \n",
      "frame=  182 fps= 91 q=-1.0 Lsize=    1458kB time=00:00:07.38 bitrate=1617.4kbits/s speed= 3.7x    \n",
      "video:1334kB audio:116kB subtitle:0kB other streams:0kB global headers:0kB muxing overhead: 0.496420%\n",
      "[libx264 @ 000001e3b7b3b800] frame I:1     Avg QP:19.48  size: 26203\n",
      "[libx264 @ 000001e3b7b3b800] frame P:75    Avg QP:20.55  size: 11799\n",
      "[libx264 @ 000001e3b7b3b800] frame B:106   Avg QP:22.36  size:  4287\n",
      "[libx264 @ 000001e3b7b3b800] consecutive B-frames: 18.7%  6.6% 13.2% 61.5%\n",
      "[libx264 @ 000001e3b7b3b800] mb I  I16..4: 42.9% 56.1%  1.1%\n",
      "[libx264 @ 000001e3b7b3b800] mb P  I16..4:  2.3%  7.4%  0.1%  P16..4: 20.0%  4.0%  1.8%  0.0%  0.0%    skip:64.4%\n",
      "[libx264 @ 000001e3b7b3b800] mb B  I16..4:  0.5%  1.9%  0.0%  B16..8: 20.7%  1.5%  0.1%  direct: 0.3%  skip:75.0%  L0:56.3% L1:41.2% BI: 2.5%\n",
      "[libx264 @ 000001e3b7b3b800] 8x8 transform intra:74.5% inter:86.6%\n",
      "[libx264 @ 000001e3b7b3b800] coded y,uvDC,uvAC intra: 29.0% 33.8% 2.8% inter: 3.2% 3.6% 0.1%\n",
      "[libx264 @ 000001e3b7b3b800] i16 v,h,dc,p: 52% 20% 24%  4%\n",
      "[libx264 @ 000001e3b7b3b800] i8 v,h,dc,ddl,ddr,vr,hd,vl,hu: 27% 18% 48%  2%  1%  1%  1%  1%  1%\n",
      "[libx264 @ 000001e3b7b3b800] i4 v,h,dc,ddl,ddr,vr,hd,vl,hu: 42% 23% 18%  3%  3%  3%  4%  2%  2%\n",
      "[libx264 @ 000001e3b7b3b800] i8c dc,h,v,p: 54% 21% 24%  1%\n",
      "[libx264 @ 000001e3b7b3b800] Weighted P-Frames: Y:1.3% UV:0.0%\n",
      "[libx264 @ 000001e3b7b3b800] ref P L0: 68.9%  6.6% 17.8%  6.7%\n",
      "[libx264 @ 000001e3b7b3b800] ref B L0: 82.8% 14.4%  2.9%\n",
      "[libx264 @ 000001e3b7b3b800] ref B L1: 94.8%  5.2%\n",
      "[libx264 @ 000001e3b7b3b800] kb/s:1500.62\n",
      "[aac @ 000001e3b7b4ba80] Qavg: 237.868\n"
     ]
    }
   ],
   "source": [
    "import os\n",
    "\n",
    "outputPath = basePath + '/outputs'\n",
    "\n",
    "inputAudioPath = basePath + '/inputs/kim_audio.mp3'\n",
    "inputVideoPath = basePath + '/inputs/test.mp4'\n",
    "\n",
    "print(inputVideoPath)\n",
    "\n",
    "lipSyncedOutputPath = basePath + '/outputs/result.mp4'\n",
    "\n",
    "if not os.path.exists(outputPath):\n",
    "    os.makedirs(outputPath)\n",
    "\n",
    "!cd $wav2lipFolderName && python inference.py \\\n",
    "    --checkpoint_path checkpoints/wav2lip.pth \\\n",
    "    --face {inputVideoPath} \\\n",
    "    --audio {inputAudioPath} \\\n",
    "    --outfile {lipSyncedOutputPath}"
   ]
  },
  {
   "cell_type": "code",
   "source": [
    "# !cd $gfpganFolderName & & python setup.py develop\n",
    "#\n",
    "# !wget https: // github.com/TencentARC/GFPGAN/releases/download/v1.3.0 /GFPGANv1.3.pth -P {gfpganFolderName}'/experiments/pretrained_models'"
   ],
   "metadata": {
    "id": "PPBew5FGGvP9"
   },
   "execution_count": null,
   "outputs": []
  },
  {
   "cell_type": "code",
   "source": [
    "import cv2\n",
    "\n",
    "from tqdm import tqdm\n",
    "\n",
    "from os import path\n",
    "\n",
    "import os\n",
    "\n",
    "inputVideoPath = outputPath + '/result.mp4'\n",
    "\n",
    "unProcessedFramesFolderPath = outputPath + '/frames'\n",
    "\n",
    "if not os.path.exists(unProcessedFramesFolderPath):\n",
    "\n",
    "    os.makedirs(unProcessedFramesFolderPath)\n",
    "\n",
    "vidcap = cv2.VideoCapture(inputVideoPath)\n",
    "\n",
    "numberOfFrames = int(vidcap.get(cv2.CAP_PROP_FRAME_COUNT))\n",
    "\n",
    "fps = vidcap.get(cv2.CAP_PROP_FPS)\n",
    "\n",
    "print(\"FPS: \", fps, \"Frames: \", numberOfFrames)\n",
    "\n",
    "for frameNumber in tqdm(range(numberOfFrames)):\n",
    "\n",
    "    _, image = vidcap.read()\n",
    "\n",
    "    cv2.imwrite(path.join(unProcessedFramesFolderPath, str(frameNumber).zfill(4) + '.jpg'), image)\n"
   ],
   "metadata": {
    "id": "X_RNegAcISU2",
    "ExecuteTime": {
     "end_time": "2023-07-05T07:49:15.267061300Z",
     "start_time": "2023-07-05T07:49:07.010088700Z"
    }
   },
   "execution_count": 24,
   "outputs": [
    {
     "name": "stdout",
     "output_type": "stream",
     "text": [
      "FPS:  25.0 Frames:  182\n"
     ]
    },
    {
     "name": "stderr",
     "output_type": "stream",
     "text": [
      "100%|██████████| 182/182 [00:08<00:00, 22.44it/s]\n"
     ]
    }
   ]
  },
  {
   "cell_type": "code",
   "source": [
    "!cd $gfpganFolderName && \\\n",
    "    python inference_gfpgan.py -i $unProcessedFramesFolderPath -o $outputPath -v 1.3 -s 2 --only_center_face --bg_upsampler None"
   ],
   "metadata": {
    "id": "k6krjfxTJYlu",
    "ExecuteTime": {
     "end_time": "2023-07-05T08:06:43.644094100Z",
     "start_time": "2023-07-05T08:06:41.444681400Z"
    }
   },
   "execution_count": 28,
   "outputs": [
    {
     "name": "stderr",
     "output_type": "stream",
     "text": [
      "Traceback (most recent call last):\n",
      "  File \"F:\\workspace\\github\\xiedongmingming\\Wav2Lip-GFPGAN\\GFPGAN-master\\inference_gfpgan.py\", line 7, in <module>\n",
      "    from basicsr.utils import imwrite\n",
      "ModuleNotFoundError: No module named 'basicsr'\n"
     ]
    }
   ]
  },
  {
   "cell_type": "code",
   "source": [
    "import os\n",
    "\n",
    "restoredFramesPath = outputPath + '/restored_imgs/'\n",
    "processedVideoOutputPath = outputPath\n",
    "\n",
    "dir_list = os.listdir(restoredFramesPath)\n",
    "dir_list.sort()\n",
    "\n",
    "import cv2\n",
    "import numpy as np\n",
    "\n",
    "batch = 0\n",
    "batchSize = 300\n",
    "\n",
    "from tqdm import tqdm\n",
    "\n",
    "for i in tqdm(range(0, len(dir_list), batchSize)):\n",
    "    img_array = []\n",
    "    start, end = i, i + batchSize\n",
    "    print(\"processing \", start, end)\n",
    "    for filename in tqdm(dir_list[start:end]):\n",
    "        filename = restoredFramesPath + filename;\n",
    "        img = cv2.imread(filename)\n",
    "        if img is None:\n",
    "            continue\n",
    "        height, width, layers = img.shape\n",
    "        size = (width, height)\n",
    "        img_array.append(img)\n",
    "\n",
    "    out = cv2.VideoWriter(processedVideoOutputPath + '/batch_' + str(batch).zfill(4) + '.avi',\n",
    "                          cv2.VideoWriter_fourcc(*'DIVX'), 30, size)\n",
    "    batch = batch + 1\n",
    "\n",
    "    for i in range(len(img_array)):\n",
    "        out.write(img_array[i])\n",
    "    out.release()\n"
   ],
   "metadata": {
    "id": "XibzGPIVJfvP"
   },
   "execution_count": null,
   "outputs": []
  },
  {
   "cell_type": "code",
   "source": [
    "concatTextFilePath = outputPath + \"/concat.txt\"\n",
    "concatTextFile = open(concatTextFilePath, \"w\")\n",
    "for ips in range(batch):\n",
    "    concatTextFile.write(\"file batch_\" + str(ips).zfill(4) + \".avi\\n\")\n",
    "concatTextFile.close()\n",
    "\n",
    "concatedVideoOutputPath = outputPath + \"/concated_output.avi\"\n",
    "!ffmpeg -y -f concat -i {concatTextFilePath} -c copy {concatedVideoOutputPath}\n",
    "\n",
    "finalProcessedOuputVideo = processedVideoOutputPath + '/final_with_audio.avi'\n",
    "!ffmpeg -y -i {concatedVideoOutputPath} -i {inputAudioPath} -map 0 -map 1:a -c:v copy -shortest {finalProcessedOuputVideo}\n",
    "\n",
    "from google.colab import files\n",
    "\n",
    "files.download(finalProcessedOuputVideo)"
   ],
   "metadata": {
    "id": "jtde28qwpDd6"
   },
   "execution_count": null,
   "outputs": []
  }
 ]
}
